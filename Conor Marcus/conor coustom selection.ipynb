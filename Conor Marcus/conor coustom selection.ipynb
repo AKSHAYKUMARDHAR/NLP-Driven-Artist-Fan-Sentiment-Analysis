{
 "cells": [
  {
   "cell_type": "code",
   "execution_count": 1,
   "metadata": {},
   "outputs": [
    {
     "name": "stderr",
     "output_type": "stream",
     "text": [
      "[nltk_data] Downloading package stopwords to C:\\Users\\AKSHAY KUMAR\n",
      "[nltk_data]     DHAR\\AppData\\Roaming\\nltk_data...\n",
      "[nltk_data]   Package stopwords is already up-to-date!\n"
     ]
    },
    {
     "name": "stdout",
     "output_type": "stream",
     "text": [
      "Tensorflow Version 2.13.0\n"
     ]
    }
   ],
   "source": [
    "import pandas as pd\n",
    "import tensorflow as tf\n",
    "import matplotlib.pyplot as plt\n",
    "import pandas as pd\n",
    "import numpy as np\n",
    "import nltk \n",
    "nltk.download('stopwords')\n",
    "from nltk.corpus import stopwords\n",
    "from nltk.stem import SnowballStemmer\n",
    "from sklearn.model_selection import train_test_split\n",
    "from sklearn.preprocessing import LabelEncoder\n",
    "import re\n",
    "print(\"Tensorflow Version\",tf.__version__)\n",
    "from keras.models import load_model\n",
    "import os\n",
    "from keras.preprocessing.text import Tokenizer\n",
    "from keras.preprocessing.sequence import pad_sequences\n",
    "import pandas as pd\n",
    "import matplotlib.pyplot as plt\n",
    "import seaborn as sns\n",
    "from nltk.sentiment import SentimentIntensityAnalyzer\n",
    "from tqdm.notebook import tqdm\n",
    "import sentencepiece\n",
    "import pandas as pd\n",
    "from tqdm import tqdm\n",
    "from scipy.special import softmax\n",
    "import warnings\n",
    "warnings.filterwarnings(\"ignore\")\n",
    "\n",
    "\n",
    "from transformers import AutoModelForSequenceClassification\n",
    "from transformers import TFAutoModelForSequenceClassification\n",
    "from transformers import AutoTokenizer, AutoConfig\n",
    "import numpy as np\n",
    "from scipy.special import softmax\n",
    "\n",
    "\n",
    "from tqdm import tqdm\n",
    "import numpy as np\n",
    "import pandas as pd\n",
    "from transformers import AutoTokenizer, AutoModel\n",
    "import torch\n",
    "\n",
    "\n",
    "import pandas as pd\n",
    "import plotly.express as px\n",
    "import dash\n",
    "import dash_core_components as dcc\n",
    "import dash_html_components as html\n",
    "from dash.dependencies import Input, Output\n",
    "\n",
    "\n",
    "\n",
    "import ipywidgets as widgets\n",
    "from IPython.display import display\n",
    "\n",
    "\n",
    "\n",
    "import pandas as pd\n",
    "from tqdm import tqdm\n",
    "from scipy.special import softmax\n",
    "from tabulate import tabulate\n",
    "\n",
    "import pyfiglet"
   ]
  },
  {
   "cell_type": "code",
   "execution_count": null,
   "metadata": {},
   "outputs": [],
   "source": []
  },
  {
   "cell_type": "code",
   "execution_count": 2,
   "metadata": {},
   "outputs": [],
   "source": [
    "\n",
    "\n",
    "stop_words = stopwords.words('english')\n",
    "stemmer = SnowballStemmer('english')\n",
    "\n",
    "# Regular expression pattern to match mentions\n",
    "mention_pattern = r'@[\\w\\d_]+'\n",
    "\n",
    "# Function to remove mentions from a comment\n",
    "def remove_mentions(comment):\n",
    "    return re.sub(mention_pattern, '', comment)\n",
    "\n",
    "\n",
    "\n",
    "\n",
    "\n",
    "text_cleaning_re = \"@\\S+|https?:\\S+|http?:\\S|[^A-Za-z0-9]+\"\n",
    "\n",
    "def preprocess(text, stem=False):\n",
    "  text = re.sub(text_cleaning_re, ' ', str(text).lower()).strip()\n",
    "  tokens = []\n",
    "  for token in text.split():\n",
    "    if token not in stop_words:\n",
    "      if stem:\n",
    "        tokens.append(stemmer.stem(token))\n",
    "      else:\n",
    "        tokens.append(token)\n",
    "  return \" \".join(tokens)\n",
    "\n",
    "\n",
    "\n",
    "\n",
    "def preprocess1(text):\n",
    "    new_text = []\n",
    "    for t in text.split(\" \"):\n",
    "        t = '@user' if t.startswith('@') and len(t) > 1 else t\n",
    "        t = 'http' if t.startswith('http') else t\n",
    "        new_text.append(t)\n",
    "    return \" \".join(new_text)\n"
   ]
  },
  {
   "cell_type": "code",
   "execution_count": 3,
   "metadata": {},
   "outputs": [],
   "source": [
    "\n",
    "# # Folder containing CSV files\n",
    "# folder_path = \"D:\\\\internship\\\\data\\\\Instagram\\\\Conor Marcus\"\n",
    "\n",
    "# # Get a list of all files in the folder\n",
    "# file_list = os.listdir(folder_path)\n",
    "\n",
    "# # Filter out only CSV files\n",
    "# csv_files = [file for file in file_list if file.endswith('.csv')]\n",
    "\n",
    "# # Initialize an empty list to store DataFrames\n",
    "# dfs = []\n",
    "\n",
    "# # Loop through each CSV file, read its content, and store in the list of DataFrames\n",
    "# for csv_file in csv_files:\n",
    "#     csv_file_path = os.path.join(folder_path, csv_file)\n",
    "#     df = pd.read_csv(csv_file_path)\n",
    "#     dfs.append(df)\n",
    "\n",
    "# # Concatenate the list of DataFrames into a single merged DataFrame\n",
    "# merged_df_insta = pd.concat(dfs, ignore_index=True)\n",
    "\n",
    "\n",
    "\n",
    "\n",
    "# #data cleaning\n",
    "\n",
    "\n",
    "\n",
    "# #renaming coloumns \n",
    "# new_column_names = {\n",
    "#     '=\"Comment Text\"': 'Comment Text',\n",
    "#     '=\"Date\"': 'Date',\n",
    "#     '=\"Username\"':'Username',\n",
    "#     '=\"User Id\"':'User Id'\n",
    "    \n",
    "# }\n",
    "# merged_df_insta.rename(columns=new_column_names, inplace=True)\n",
    "\n",
    "# selected_columns = ['User Id','Username','Comment Text','Date']\n",
    "# merged_df_insta=merged_df_insta[selected_columns]\n",
    "# #Formating the User Id,Username and Comment text coloumn \n",
    "# merged_df_insta['Comment Text'] = merged_df_insta['Comment Text'].str.lstrip('=\"').str.rstrip('\"')\n",
    "# merged_df_insta['User Id'] = merged_df_insta['User Id'].str.lstrip('=\"').str.rstrip('\"')\n",
    "# merged_df_insta['Username'] = merged_df_insta['Username'].str.lstrip('=\"').str.rstrip('\"')\n",
    "# #Formating the Data coloumn. \n",
    "# merged_df_insta['Date'] = pd.to_datetime(merged_df_insta['Date'], format='=\"%m/%d/%Y, %I:%M:%S %p\"')\n",
    "# merged_df_insta['Date'] = merged_df_insta['Date'].dt.strftime('%Y-%m-%d %H:%M')\n",
    "# desired_username= 'therisingmusic'\n",
    "# merged_df_insta_with_reply = merged_df_insta[merged_df_insta['Username'] == desired_username]\n",
    "# merged_df_insta_without_reply=merged_df_insta[merged_df_insta['Username'] != desired_username]\n",
    " "
   ]
  },
  {
   "cell_type": "code",
   "execution_count": 4,
   "metadata": {},
   "outputs": [],
   "source": [
    "# # Folder containing CSV files\n",
    "# folder_path = \"D:\\\\internship\\\\data\\\\Facebook\\\\Conor Marcus\"\n",
    "\n",
    "# # Get a list of all files in the folder\n",
    "# file_list = os.listdir(folder_path)\n",
    "\n",
    "# # Filter out only CSV files\n",
    "# csv_files = [file for file in file_list if file.endswith('.csv')]\n",
    "\n",
    "# # Initialize an empty list to store DataFrames\n",
    "# dfs = []\n",
    "\n",
    "# # Loop through each CSV file, read its content, and store in the list of DataFrames\n",
    "# for csv_file in csv_files:\n",
    "#     csv_file_path = os.path.join(folder_path, csv_file)\n",
    "#     df = pd.read_csv(csv_file_path)\n",
    "#     dfs.append(df)\n",
    "\n",
    "# # Concatenate the list of DataFrames into a single merged DataFrame\n",
    "# merged_df_fb = pd.concat(dfs, ignore_index=True)\n",
    "\n",
    "\n",
    "# # data cleaning\n",
    "\n",
    "\n",
    "\n",
    "# #renaming the coloumns \n",
    "# new_column_names = {\n",
    "#     'Content': 'Comment Text',\n",
    "#     'CommentAt': 'Date',\n",
    "#     'UserId': 'User Id',\n",
    "#     'Author': 'Username'\n",
    "# }\n",
    "# merged_df_fb.rename(columns=new_column_names, inplace=True)\n",
    "\n",
    "# selected_columns = ['User Id','Username','Comment Text','Date']\n",
    "# merged_df_fb=merged_df_fb[selected_columns]\n",
    "# #Formating the  date coloumn \n",
    "# merged_df_fb\n",
    "# merged_df_fb['Date'] = pd.to_datetime(merged_df_fb['Date'], format='%m/%d/%Y %I:%M %p')\n",
    "# merged_df_fb['Date'] = merged_df_fb['Date'].dt.strftime('%Y-%m-%d %H:%M')\n",
    "# desired_username_fb= 'The Rising'\n",
    "# merged_df_fb_with_reply = merged_df_fb[merged_df_fb['Username'] == desired_username_fb]\n",
    "# merged_df_fb_without_reply=merged_df_fb[merged_df_fb['Username'] != desired_username_fb]\n",
    "\n"
   ]
  },
  {
   "cell_type": "markdown",
   "metadata": {},
   "source": [
    "## User selection for desired  social platfrom and  post "
   ]
  },
  {
   "cell_type": "code",
   "execution_count": 5,
   "metadata": {},
   "outputs": [
    {
     "name": "stdout",
     "output_type": "stream",
     "text": [
      "Number of Instagram posts : 298\n",
      "Number of Facebook posts: 32\n"
     ]
    },
    {
     "data": {
      "image/png": "[encoded data removed]",
      "text/plain": [
       "<Figure size 1000x500 with 2 Axes>"
      ]
     },
     "metadata": {},
     "output_type": "display_data"
    },
    {
     "data": {
      "application/vnd.jupyter.widget-view+json": {
       "model_id": "fde8400e3f304d76a94d2cbeba585ca4",
       "version_major": 2,
       "version_minor": 0
      },
      "text/plain": [
       "VBox(children=(HBox(children=(Label(value='Select Platform:'), Dropdown(options=('', 'Instagram', 'Facebook'),…"
      ]
     },
     "metadata": {},
     "output_type": "display_data"
    },
    {
     "data": {
      "application/vnd.jupyter.widget-view+json": {
       "model_id": "4c4f06d4775b46e78d992fc792c90891",
       "version_major": 2,
       "version_minor": 0
      },
      "text/plain": [
       "Output()"
      ]
     },
     "metadata": {},
     "output_type": "display_data"
    },
    {
     "data": {
      "text/html": [
       "<div>\n",
       "<style scoped>\n",
       "    .dataframe tbody tr th:only-of-type {\n",
       "        vertical-align: middle;\n",
       "    }\n",
       "\n",
       "    .dataframe tbody tr th {\n",
       "        vertical-align: top;\n",
       "    }\n",
       "\n",
       "    .dataframe thead th {\n",
       "        text-align: right;\n",
       "    }\n",
       "</style>\n",
       "<table border=\"1\" class=\"dataframe\">\n",
       "  <thead>\n",
       "    <tr style=\"text-align: right;\">\n",
       "      <th></th>\n",
       "      <th>User Id</th>\n",
       "      <th>Username</th>\n",
       "      <th>Comment Text</th>\n",
       "      <th>Date</th>\n",
       "    </tr>\n",
       "  </thead>\n",
       "  <tbody>\n",
       "    <tr>\n",
       "      <th>0</th>\n",
       "      <td>9258047494</td>\n",
       "      <td>bedrosayah</td>\n",
       "      <td>Have a nice day guys :)) enjoy ur holiday 🙌😻✌❤</td>\n",
       "      <td>2019-07-19 13:46</td>\n",
       "    </tr>\n",
       "    <tr>\n",
       "      <th>1</th>\n",
       "      <td>11299337845</td>\n",
       "      <td>danielecorbomusic</td>\n",
       "      <td>🤟🤟</td>\n",
       "      <td>2019-07-19 13:53</td>\n",
       "    </tr>\n",
       "    <tr>\n",
       "      <th>2</th>\n",
       "      <td>1687751371</td>\n",
       "      <td>gmtb_music</td>\n",
       "      <td>Best of luck to everyone tomorrow 🍀🤞</td>\n",
       "      <td>2019-07-19 14:28</td>\n",
       "    </tr>\n",
       "    <tr>\n",
       "      <th>3</th>\n",
       "      <td>1331980614</td>\n",
       "      <td>trine.nordestgaard</td>\n",
       "      <td>Good luck Conor. We sure will watch it tomorro...</td>\n",
       "      <td>2019-07-19 17:08</td>\n",
       "    </tr>\n",
       "    <tr>\n",
       "      <th>4</th>\n",
       "      <td>7475003996</td>\n",
       "      <td>thetyneryan</td>\n",
       "      <td>Great to see you all, good luck tomorrow night...</td>\n",
       "      <td>2019-07-19 18:07</td>\n",
       "    </tr>\n",
       "    <tr>\n",
       "      <th>5</th>\n",
       "      <td>6087902438</td>\n",
       "      <td>conormarcusmusic</td>\n",
       "      <td>@ryan_lofthouse_music thanks Ryan, Joslyn and ...</td>\n",
       "      <td>2019-07-19 18:18</td>\n",
       "    </tr>\n",
       "    <tr>\n",
       "      <th>6</th>\n",
       "      <td>7730882991</td>\n",
       "      <td>fansbusted</td>\n",
       "      <td>🚀🚀🚀</td>\n",
       "      <td>2019-07-20 04:24</td>\n",
       "    </tr>\n",
       "    <tr>\n",
       "      <th>7</th>\n",
       "      <td>5773211297</td>\n",
       "      <td>marthamoxonn</td>\n",
       "      <td>I loved this night so much! ❤️</td>\n",
       "      <td>2019-07-20 17:42</td>\n",
       "    </tr>\n",
       "    <tr>\n",
       "      <th>8</th>\n",
       "      <td>1527586152</td>\n",
       "      <td>auntie_gertie</td>\n",
       "      <td>Just remember all of you, you are all stars no...</td>\n",
       "      <td>2019-07-20 19:39</td>\n",
       "    </tr>\n",
       "    <tr>\n",
       "      <th>9</th>\n",
       "      <td>6087902438</td>\n",
       "      <td>conormarcusmusic</td>\n",
       "      <td>@auntie_gertie great advice so true!!!</td>\n",
       "      <td>2019-07-20 19:50</td>\n",
       "    </tr>\n",
       "    <tr>\n",
       "      <th>10</th>\n",
       "      <td>11090747704</td>\n",
       "      <td>emilylingeofficial</td>\n",
       "      <td>You were all amazing 💪❤️</td>\n",
       "      <td>2019-07-21 13:03</td>\n",
       "    </tr>\n",
       "  </tbody>\n",
       "</table>\n",
       "</div>"
      ],
      "text/plain": [
       "        User Id            Username  \\\n",
       "0    9258047494          bedrosayah   \n",
       "1   11299337845   danielecorbomusic   \n",
       "2    1687751371          gmtb_music   \n",
       "3    1331980614  trine.nordestgaard   \n",
       "4    7475003996         thetyneryan   \n",
       "5    6087902438    conormarcusmusic   \n",
       "6    7730882991          fansbusted   \n",
       "7    5773211297        marthamoxonn   \n",
       "8    1527586152       auntie_gertie   \n",
       "9    6087902438    conormarcusmusic   \n",
       "10  11090747704  emilylingeofficial   \n",
       "\n",
       "                                         Comment Text              Date  \n",
       "0      Have a nice day guys :)) enjoy ur holiday 🙌😻✌❤  2019-07-19 13:46  \n",
       "1                                                  🤟🤟  2019-07-19 13:53  \n",
       "2                Best of luck to everyone tomorrow 🍀🤞  2019-07-19 14:28  \n",
       "3   Good luck Conor. We sure will watch it tomorro...  2019-07-19 17:08  \n",
       "4   Great to see you all, good luck tomorrow night...  2019-07-19 18:07  \n",
       "5   @ryan_lofthouse_music thanks Ryan, Joslyn and ...  2019-07-19 18:18  \n",
       "6                                                 🚀🚀🚀  2019-07-20 04:24  \n",
       "7                      I loved this night so much! ❤️  2019-07-20 17:42  \n",
       "8   Just remember all of you, you are all stars no...  2019-07-20 19:39  \n",
       "9              @auntie_gertie great advice so true!!!  2019-07-20 19:50  \n",
       "10                           You were all amazing 💪❤️  2019-07-21 13:03  "
      ]
     },
     "metadata": {},
     "output_type": "display_data"
    },
    {
     "data": {
      "text/html": [
       "<div>\n",
       "<style scoped>\n",
       "    .dataframe tbody tr th:only-of-type {\n",
       "        vertical-align: middle;\n",
       "    }\n",
       "\n",
       "    .dataframe tbody tr th {\n",
       "        vertical-align: top;\n",
       "    }\n",
       "\n",
       "    .dataframe thead th {\n",
       "        text-align: right;\n",
       "    }\n",
       "</style>\n",
       "<table border=\"1\" class=\"dataframe\">\n",
       "  <thead>\n",
       "    <tr style=\"text-align: right;\">\n",
       "      <th></th>\n",
       "      <th>User Id</th>\n",
       "      <th>Username</th>\n",
       "      <th>Comment Text</th>\n",
       "      <th>Date</th>\n",
       "    </tr>\n",
       "  </thead>\n",
       "  <tbody>\n",
       "    <tr>\n",
       "      <th>0</th>\n",
       "      <td>533396370</td>\n",
       "      <td>Jonny Davison</td>\n",
       "      <td>I knew there was something about you the first...</td>\n",
       "      <td>2022-03-14 20:03</td>\n",
       "    </tr>\n",
       "  </tbody>\n",
       "</table>\n",
       "</div>"
      ],
      "text/plain": [
       "     User Id       Username  \\\n",
       "0  533396370  Jonny Davison   \n",
       "\n",
       "                                        Comment Text              Date  \n",
       "0  I knew there was something about you the first...  2022-03-14 20:03  "
      ]
     },
     "metadata": {},
     "output_type": "display_data"
    },
    {
     "data": {
      "text/html": [
       "<div>\n",
       "<style scoped>\n",
       "    .dataframe tbody tr th:only-of-type {\n",
       "        vertical-align: middle;\n",
       "    }\n",
       "\n",
       "    .dataframe tbody tr th {\n",
       "        vertical-align: top;\n",
       "    }\n",
       "\n",
       "    .dataframe thead th {\n",
       "        text-align: right;\n",
       "    }\n",
       "</style>\n",
       "<table border=\"1\" class=\"dataframe\">\n",
       "  <thead>\n",
       "    <tr style=\"text-align: right;\">\n",
       "      <th></th>\n",
       "      <th>User Id</th>\n",
       "      <th>Username</th>\n",
       "      <th>Comment Text</th>\n",
       "      <th>Date</th>\n",
       "    </tr>\n",
       "  </thead>\n",
       "  <tbody>\n",
       "    <tr>\n",
       "      <th>0</th>\n",
       "      <td>100064657010030</td>\n",
       "      <td>Matt Winder</td>\n",
       "      <td>Awesome job bro 😎</td>\n",
       "      <td>2022-05-22 18:12</td>\n",
       "    </tr>\n",
       "    <tr>\n",
       "      <th>1</th>\n",
       "      <td>1386707882</td>\n",
       "      <td>Kevin Desaulniers</td>\n",
       "      <td>Flawless!!!  LOVE this!</td>\n",
       "      <td>2022-05-22 16:56</td>\n",
       "    </tr>\n",
       "    <tr>\n",
       "      <th>2</th>\n",
       "      <td>544443019</td>\n",
       "      <td>Shemaine Kerr</td>\n",
       "      <td>Love this 🙃</td>\n",
       "      <td>2022-05-22 16:10</td>\n",
       "    </tr>\n",
       "    <tr>\n",
       "      <th>3</th>\n",
       "      <td>100009368735207</td>\n",
       "      <td>Lesley Green</td>\n",
       "      <td>Beautiful Conor 😊</td>\n",
       "      <td>2022-05-22 16:08</td>\n",
       "    </tr>\n",
       "  </tbody>\n",
       "</table>\n",
       "</div>"
      ],
      "text/plain": [
       "           User Id           Username             Comment Text  \\\n",
       "0  100064657010030        Matt Winder        Awesome job bro 😎   \n",
       "1       1386707882  Kevin Desaulniers  Flawless!!!  LOVE this!   \n",
       "2        544443019      Shemaine Kerr              Love this 🙃   \n",
       "3  100009368735207       Lesley Green        Beautiful Conor 😊   \n",
       "\n",
       "               Date  \n",
       "0  2022-05-22 18:12  \n",
       "1  2022-05-22 16:56  \n",
       "2  2022-05-22 16:10  \n",
       "3  2022-05-22 16:08  "
      ]
     },
     "metadata": {},
     "output_type": "display_data"
    }
   ],
   "source": [
    "from IPython.display import clear_output\n",
    "\n",
    "# Function to perform data cleaning and adjustments\n",
    "def clean_and_adjust(df, platform):\n",
    "    if platform == \"Instagram\":\n",
    "        new_column_names = {\n",
    "            '=\"Comment Text\"': 'Comment Text',\n",
    "            '=\"Date\"': 'Date',\n",
    "            '=\"Username\"': 'Username',\n",
    "            '=\"User Id\"': 'User Id'\n",
    "        }\n",
    "        df.rename(columns=new_column_names, inplace=True)\n",
    "\n",
    "        selected_columns = ['User Id', 'Username', 'Comment Text', 'Date']\n",
    "        df = df[selected_columns]\n",
    "\n",
    "        df['Comment Text'] = df['Comment Text'].str.lstrip('=\"').str.rstrip('\"')\n",
    "        df['User Id'] = df['User Id'].str.lstrip('=\"').str.rstrip('\"')\n",
    "        df['Username'] = df['Username'].str.lstrip('=\"').str.rstrip('\"')\n",
    "\n",
    "        df['Date'] = pd.to_datetime(df['Date'], format='=\"%m/%d/%Y, %I:%M:%S %p\"')\n",
    "        df['Date'] = df['Date'].dt.strftime('%Y-%m-%d %H:%M')\n",
    "        \n",
    "    elif platform == \"Facebook\":\n",
    "        new_column_names_fb = {\n",
    "            'Content': 'Comment Text',\n",
    "            'CommentAt': 'Date',\n",
    "            'UserId': 'User Id',\n",
    "            'Author': 'Username'\n",
    "        }\n",
    "        df.rename(columns=new_column_names_fb, inplace=True)\n",
    "\n",
    "        selected_columns_fb = ['User Id', 'Username', 'Comment Text', 'Date']\n",
    "        df = df[selected_columns_fb]\n",
    "\n",
    "        df['Comment Text'] = df['Comment Text'].str.lstrip('=\"').str.rstrip('\"')\n",
    "\n",
    "        df['Date'] = pd.to_datetime(df['Date'], format='%m/%d/%Y %I:%M %p')\n",
    "        df['Date'] = df['Date'].dt.strftime('%Y-%m-%d %H:%M')\n",
    "    \n",
    "    return df\n",
    "\n",
    "# Process Instagram data\n",
    "folder_path_insta = \"D:\\\\internship\\\\data\\\\Instagram\\\\Conor Marcus\"\n",
    "file_list_insta = os.listdir(folder_path_insta)\n",
    "csv_files_insta = [file for file in file_list_insta if file.endswith('.csv')]\n",
    "\n",
    "Instagram = []\n",
    "for csv_file_insta in csv_files_insta:\n",
    "    csv_file_path_insta = os.path.join(folder_path_insta, csv_file_insta)\n",
    "    df_insta = pd.read_csv(csv_file_path_insta)\n",
    "    df_insta = clean_and_adjust(df_insta, \"Instagram\")\n",
    "    Instagram.append(df_insta)\n",
    "\n",
    "num_dataframes_insta = len(Instagram)\n",
    "print(\"Number of Instagram posts :\", num_dataframes_insta)\n",
    "\n",
    "# Process Facebook data\n",
    "folder_path_fb = \"D:\\\\internship\\\\data\\\\Facebook\\\\Conor Marcus\"\n",
    "file_list_fb = os.listdir(folder_path_fb)\n",
    "csv_files_fb = [file for file in file_list_fb if file.endswith('.csv')]\n",
    "\n",
    "Facebook = []\n",
    "for csv_file_fb in csv_files_fb:\n",
    "    csv_file_path_fb = os.path.join(folder_path_fb, csv_file_fb)\n",
    "    df_fb = pd.read_csv(csv_file_path_fb)\n",
    "    df_fb = clean_and_adjust(df_fb, \"Facebook\")\n",
    "    Facebook.append(df_fb)\n",
    "\n",
    "num_dataframes_fb = len(Facebook)\n",
    "print(\"Number of Facebook posts:\", num_dataframes_fb)\n",
    "\n",
    "\n",
    "\n",
    "\n",
    "import matplotlib.image as mpimg\n",
    "from skimage.transform import resize\n",
    "\n",
    "# Load Instagram and Facebook logos\n",
    "instagram_logo = mpimg.imread('C:\\\\Users\\\\AKSHAY KUMAR DHAR\\\\Downloads\\\\logo-ig-png-32459.png')  \n",
    "facebook_logo = mpimg.imread('C:\\\\Users\\\\AKSHAY KUMAR DHAR\\\\Downloads\\\\facebook-logo-493.png')\n",
    "\n",
    "# Define the number of posts for each platform\n",
    "num_dataframes_insta = num_dataframes_insta  # Replace with the actual number of Instagram posts\n",
    "num_dataframes_fb = num_dataframes_fb     # Replace with the actual number of Facebook posts\n",
    "\n",
    "\n",
    "# Adjust the size of the logos\n",
    "logo_size = (300, 300)  # Adjust the size as needed\n",
    "instagram_logo = resize(instagram_logo, logo_size)\n",
    "facebook_logo = resize(facebook_logo, logo_size)\n",
    "\n",
    "# Create subplots for each platform\n",
    "fig, axes = plt.subplots(1, 2, figsize=(10, 5))\n",
    "\n",
    "# Plot Instagram logo with number of posts\n",
    "axes[0].imshow(instagram_logo)\n",
    "axes[0].set_title(f'Instagram\\nPosts: {num_dataframes_insta}')\n",
    "axes[0].axis('off')\n",
    "\n",
    "# Plot Facebook logo with number of posts\n",
    "axes[1].imshow(facebook_logo)\n",
    "axes[1].set_title(f'Facebook\\nPosts: {num_dataframes_fb}')\n",
    "axes[1].axis('off')\n",
    "\n",
    "plt.tight_layout()\n",
    "plt.show()\n",
    "\n",
    "\n",
    "\n",
    "\n",
    "import ipywidgets as widgets\n",
    "from IPython.display import display\n",
    "\n",
    "\n",
    "import pandas as pd\n",
    "insta_dfs=Instagram\n",
    "fb_dfs=Facebook\n",
    "\n",
    "# Dict of dataframes\n",
    "dfs = {\n",
    "  'Instagram': insta_dfs,\n",
    "  'Facebook': fb_dfs\n",
    "}\n",
    "\n",
    "# Widgets\n",
    "# list_dropdown = widgets.Dropdown(options=list(dfs.keys()))\n",
    "list_dropdown = widgets.Dropdown(options=[''] + list(dfs.keys()))\n",
    "dataframe_dropdown = widgets.Dropdown()\n",
    "output = widgets.Output()\n",
    "\n",
    "def get_selected_df():\n",
    "  selected_dfs = dfs[list_dropdown.value]\n",
    "  selected_index = dataframe_dropdown.value\n",
    "  return selected_dfs[selected_index]\n",
    "\n",
    "def update_dataframe_dropdown():\n",
    "  selected_dfs = dfs[list_dropdown.value]\n",
    "  dataframe_dropdown.options = [(f\"Post {i+1}\", i) for i in range(len(selected_dfs))]\n",
    "\n",
    "def handle_platform_change(change):\n",
    "  update_dataframe_dropdown()\n",
    "\n",
    "\n",
    "platform_label=widgets.Label(\"Select Platform:\")\n",
    "dataframe_label=widgets.Label(\"Select post:\")\n",
    "dropdowns = widgets.VBox([\n",
    "    widgets.HBox([platform_label, list_dropdown]),\n",
    "    widgets.HBox([dataframe_label, dataframe_dropdown])\n",
    "])\n",
    "\n",
    "\n",
    "\n",
    "\n",
    "\n",
    "\n",
    "\n",
    "\n",
    "\n",
    "\n",
    "\n",
    "\n",
    "def display_dataframe(change):\n",
    "  \n",
    "\n",
    "  global selected_post \n",
    "  selected_post = get_selected_df()\n",
    "  \n",
    "  \n",
    "  display(selected_post)\n",
    "\n",
    "\n",
    "display(dropdowns)\n",
    "display(output)\n",
    "# Set up callbacks\n",
    "list_dropdown.observe(handle_platform_change, 'value') \n",
    "dataframe_dropdown.observe(display_dataframe, 'value')\n",
    "\n",
    "\n"
   ]
  },
  {
   "cell_type": "code",
   "execution_count": 7,
   "metadata": {},
   "outputs": [
    {
     "name": "stderr",
     "output_type": "stream",
     "text": [
      "Some weights of the model checkpoint at cardiffnlp/twitter-roberta-base-sentiment-latest were not used when initializing RobertaForSequenceClassification: ['roberta.pooler.dense.weight', 'roberta.pooler.dense.bias']\n",
      "- This IS expected if you are initializing RobertaForSequenceClassification from the checkpoint of a model trained on another task or with another architecture (e.g. initializing a BertForSequenceClassification model from a BertForPreTraining model).\n",
      "- This IS NOT expected if you are initializing RobertaForSequenceClassification from the checkpoint of a model that you expect to be exactly identical (initializing a BertForSequenceClassification model from a BertForSequenceClassification model).\n"
     ]
    },
    {
     "name": "stdout",
     "output_type": "stream",
     "text": [
      "╔═════════════════════════════════════════════╗\n",
      "║  The data have No replies from the artists  ║\n",
      "╚═════════════════════════════════════════════╝\n",
      "--------------------------------------------------------------------------------------------------------------------\n"
     ]
    },
    {
     "name": "stderr",
     "output_type": "stream",
     "text": [
      "100%|██████████| 4/4 [00:00<00:00,  5.86it/s]"
     ]
    },
    {
     "name": "stdout",
     "output_type": "stream",
     "text": [
      "--------------------------------------------------------------------------------------------------------------------\n"
     ]
    },
    {
     "name": "stderr",
     "output_type": "stream",
     "text": [
      "\n"
     ]
    },
    {
     "data": {
      "image/png": "[encoded data removed]",
      "text/plain": [
       "<Figure size 800x600 with 1 Axes>"
      ]
     },
     "metadata": {},
     "output_type": "display_data"
    },
    {
     "name": "stdout",
     "output_type": "stream",
     "text": [
      "--------------------------------------------------------------------------------------------------------------------\n"
     ]
    },
    {
     "data": {
      "image/png": "[encoded data removed]",
      "text/plain": [
       "<Figure size 800x600 with 1 Axes>"
      ]
     },
     "metadata": {},
     "output_type": "display_data"
    },
    {
     "name": "stdout",
     "output_type": "stream",
     "text": [
      "--------------------------------------------------------------------------------------------------------------------\n"
     ]
    },
    {
     "data": {
      "application/vnd.plotly.v1+json": {
       "config": {
        "plotlyServerURL": "https://plot.ly",
        "scrollZoom": true
       },
       "data": [
        {
         "hovertemplate": "variable=roberta_pos<br>Date=%{x}<br>Count=%{y}<extra></extra>",
         "legendgroup": "roberta_pos",
         "line": {
          "color": "#636efa",
          "dash": "solid"
         },
         "marker": {
          "symbol": "circle"
         },
         "mode": "lines",
         "name": "roberta_pos",
         "orientation": "v",
         "showlegend": true,
         "type": "scatter",
         "x": [
          "2022-05-22T18:12:00",
          "2022-05-22T16:56:00",
          "2022-05-22T16:10:00",
          "2022-05-22T16:08:00"
         ],
         "xaxis": "x",
         "y": [
          0.9681567549705505,
          0.8588442802429199,
          0.5855643153190613,
          0.9227330088615417
         ],
         "yaxis": "y"
        },
        {
         "hovertemplate": "variable=roberta_neg<br>Date=%{x}<br>Count=%{y}<extra></extra>",
         "legendgroup": "roberta_neg",
         "line": {
          "color": "#EF553B",
          "dash": "solid"
         },
         "marker": {
          "symbol": "circle"
         },
         "mode": "lines",
         "name": "roberta_neg",
         "orientation": "v",
         "showlegend": true,
         "type": "scatter",
         "x": [
          "2022-05-22T18:12:00",
          "2022-05-22T16:56:00",
          "2022-05-22T16:10:00",
          "2022-05-22T16:08:00"
         ],
         "xaxis": "x",
         "y": [
          0.006972327362746,
          0.025561541318893433,
          0.08414508402347565,
          0.009658075869083405
         ],
         "yaxis": "y"
        },
        {
         "mode": "markers",
         "name": "Positive",
         "type": "scatter",
         "x": [
          "2022-05-22T18:12:00",
          "2022-05-22T16:56:00",
          "2022-05-22T16:10:00",
          "2022-05-22T16:08:00"
         ],
         "y": [
          0.9681567549705505,
          0.8588442802429199,
          0.5855643153190613,
          0.9227330088615417
         ]
        },
        {
         "mode": "markers",
         "name": "Negative",
         "type": "scatter",
         "x": [
          "2022-05-22T18:12:00",
          "2022-05-22T16:56:00",
          "2022-05-22T16:10:00",
          "2022-05-22T16:08:00"
         ],
         "y": [
          0.006972327362746,
          0.025561541318893433,
          0.08414508402347565,
          0.009658075869083405
         ]
        }
       ],
       "layout": {
        "legend": {
         "title": {
          "text": "Sentiment"
         },
         "tracegroupgap": 0,
         "traceorder": "reversed"
        },
        "template": {
         "data": {
          "bar": [
           {
            "error_x": {
             "color": "#2a3f5f"
            },
            "error_y": {
             "color": "#2a3f5f"
            },
            "marker": {
             "line": {
              "color": "#E5ECF6",
              "width": 0.5
             },
             "pattern": {
              "fillmode": "overlay",
              "size": 10,
              "solidity": 0.2
             }
            },
            "type": "bar"
           }
          ],
          "barpolar": [
           {
            "marker": {
             "line": {
              "color": "#E5ECF6",
              "width": 0.5
             },
             "pattern": {
              "fillmode": "overlay",
              "size": 10,
              "solidity": 0.2
             }
            },
            "type": "barpolar"
           }
          ],
          "carpet": [
           {
            "aaxis": {
             "endlinecolor": "#2a3f5f",
             "gridcolor": "white",
             "linecolor": "white",
             "minorgridcolor": "white",
             "startlinecolor": "#2a3f5f"
            },
            "baxis": {
             "endlinecolor": "#2a3f5f",
             "gridcolor": "white",
             "linecolor": "white",
             "minorgridcolor": "white",
             "startlinecolor": "#2a3f5f"
            },
            "type": "carpet"
           }
          ],
          "choropleth": [
           {
            "colorbar": {
             "outlinewidth": 0,
             "ticks": ""
            },
            "type": "choropleth"
           }
          ],
          "contour": [
           {
            "colorbar": {
             "outlinewidth": 0,
             "ticks": ""
            },
            "colorscale": [
             [
              0,
              "#0d0887"
             ],
             [
              0.1111111111111111,
              "#46039f"
             ],
             [
              0.2222222222222222,
              "#7201a8"
             ],
             [
              0.3333333333333333,
              "#9c179e"
             ],
             [
              0.4444444444444444,
              "#bd3786"
             ],
             [
              0.5555555555555556,
              "#d8576b"
             ],
             [
              0.6666666666666666,
              "#ed7953"
             ],
             [
              0.7777777777777778,
              "#fb9f3a"
             ],
             [
              0.8888888888888888,
              "#fdca26"
             ],
             [
              1,
              "#f0f921"
             ]
            ],
            "type": "contour"
           }
          ],
          "contourcarpet": [
           {
            "colorbar": {
             "outlinewidth": 0,
             "ticks": ""
            },
            "type": "contourcarpet"
           }
          ],
          "heatmap": [
           {
            "colorbar": {
             "outlinewidth": 0,
             "ticks": ""
            },
            "colorscale": [
             [
              0,
              "#0d0887"
             ],
             [
              0.1111111111111111,
              "#46039f"
             ],
             [
              0.2222222222222222,
              "#7201a8"
             ],
             [
              0.3333333333333333,
              "#9c179e"
             ],
             [
              0.4444444444444444,
              "#bd3786"
             ],
             [
              0.5555555555555556,
              "#d8576b"
             ],
             [
              0.6666666666666666,
              "#ed7953"
             ],
             [
              0.7777777777777778,
              "#fb9f3a"
             ],
             [
              0.8888888888888888,
              "#fdca26"
             ],
             [
              1,
              "#f0f921"
             ]
            ],
            "type": "heatmap"
           }
          ],
          "heatmapgl": [
           {
            "colorbar": {
             "outlinewidth": 0,
             "ticks": ""
            },
            "colorscale": [
             [
              0,
              "#0d0887"
             ],
             [
              0.1111111111111111,
              "#46039f"
             ],
             [
              0.2222222222222222,
              "#7201a8"
             ],
             [
              0.3333333333333333,
              "#9c179e"
             ],
             [
              0.4444444444444444,
              "#bd3786"
             ],
             [
              0.5555555555555556,
              "#d8576b"
             ],
             [
              0.6666666666666666,
              "#ed7953"
             ],
             [
              0.7777777777777778,
              "#fb9f3a"
             ],
             [
              0.8888888888888888,
              "#fdca26"
             ],
             [
              1,
              "#f0f921"
             ]
            ],
            "type": "heatmapgl"
           }
          ],
          "histogram": [
           {
            "marker": {
             "pattern": {
              "fillmode": "overlay",
              "size": 10,
              "solidity": 0.2
             }
            },
            "type": "histogram"
           }
          ],
          "histogram2d": [
           {
            "colorbar": {
             "outlinewidth": 0,
             "ticks": ""
            },
            "colorscale": [
             [
              0,
              "#0d0887"
             ],
             [
              0.1111111111111111,
              "#46039f"
             ],
             [
              0.2222222222222222,
              "#7201a8"
             ],
             [
              0.3333333333333333,
              "#9c179e"
             ],
             [
              0.4444444444444444,
              "#bd3786"
             ],
             [
              0.5555555555555556,
              "#d8576b"
             ],
             [
              0.6666666666666666,
              "#ed7953"
             ],
             [
              0.7777777777777778,
              "#fb9f3a"
             ],
             [
              0.8888888888888888,
              "#fdca26"
             ],
             [
              1,
              "#f0f921"
             ]
            ],
            "type": "histogram2d"
           }
          ],
          "histogram2dcontour": [
           {
            "colorbar": {
             "outlinewidth": 0,
             "ticks": ""
            },
            "colorscale": [
             [
              0,
              "#0d0887"
             ],
             [
              0.1111111111111111,
              "#46039f"
             ],
             [
              0.2222222222222222,
              "#7201a8"
             ],
             [
              0.3333333333333333,
              "#9c179e"
             ],
             [
              0.4444444444444444,
              "#bd3786"
             ],
             [
              0.5555555555555556,
              "#d8576b"
             ],
             [
              0.6666666666666666,
              "#ed7953"
             ],
             [
              0.7777777777777778,
              "#fb9f3a"
             ],
             [
              0.8888888888888888,
              "#fdca26"
             ],
             [
              1,
              "#f0f921"
             ]
            ],
            "type": "histogram2dcontour"
           }
          ],
          "mesh3d": [
           {
            "colorbar": {
             "outlinewidth": 0,
             "ticks": ""
            },
            "type": "mesh3d"
           }
          ],
          "parcoords": [
           {
            "line": {
             "colorbar": {
              "outlinewidth": 0,
              "ticks": ""
             }
            },
            "type": "parcoords"
           }
          ],
          "pie": [
           {
            "automargin": true,
            "type": "pie"
           }
          ],
          "scatter": [
           {
            "fillpattern": {
             "fillmode": "overlay",
             "size": 10,
             "solidity": 0.2
            },
            "type": "scatter"
           }
          ],
          "scatter3d": [
           {
            "line": {
             "colorbar": {
              "outlinewidth": 0,
              "ticks": ""
             }
            },
            "marker": {
             "colorbar": {
              "outlinewidth": 0,
              "ticks": ""
             }
            },
            "type": "scatter3d"
           }
          ],
          "scattercarpet": [
           {
            "marker": {
             "colorbar": {
              "outlinewidth": 0,
              "ticks": ""
             }
            },
            "type": "scattercarpet"
           }
          ],
          "scattergeo": [
           {
            "marker": {
             "colorbar": {
              "outlinewidth": 0,
              "ticks": ""
             }
            },
            "type": "scattergeo"
           }
          ],
          "scattergl": [
           {
            "marker": {
             "colorbar": {
              "outlinewidth": 0,
              "ticks": ""
             }
            },
            "type": "scattergl"
           }
          ],
          "scattermapbox": [
           {
            "marker": {
             "colorbar": {
              "outlinewidth": 0,
              "ticks": ""
             }
            },
            "type": "scattermapbox"
           }
          ],
          "scatterpolar": [
           {
            "marker": {
             "colorbar": {
              "outlinewidth": 0,
              "ticks": ""
             }
            },
            "type": "scatterpolar"
           }
          ],
          "scatterpolargl": [
           {
            "marker": {
             "colorbar": {
              "outlinewidth": 0,
              "ticks": ""
             }
            },
            "type": "scatterpolargl"
           }
          ],
          "scatterternary": [
           {
            "marker": {
             "colorbar": {
              "outlinewidth": 0,
              "ticks": ""
             }
            },
            "type": "scatterternary"
           }
          ],
          "surface": [
           {
            "colorbar": {
             "outlinewidth": 0,
             "ticks": ""
            },
            "colorscale": [
             [
              0,
              "#0d0887"
             ],
             [
              0.1111111111111111,
              "#46039f"
             ],
             [
              0.2222222222222222,
              "#7201a8"
             ],
             [
              0.3333333333333333,
              "#9c179e"
             ],
             [
              0.4444444444444444,
              "#bd3786"
             ],
             [
              0.5555555555555556,
              "#d8576b"
             ],
             [
              0.6666666666666666,
              "#ed7953"
             ],
             [
              0.7777777777777778,
              "#fb9f3a"
             ],
             [
              0.8888888888888888,
              "#fdca26"
             ],
             [
              1,
              "#f0f921"
             ]
            ],
            "type": "surface"
           }
          ],
          "table": [
           {
            "cells": {
             "fill": {
              "color": "#EBF0F8"
             },
             "line": {
              "color": "white"
             }
            },
            "header": {
             "fill": {
              "color": "#C8D4E3"
             },
             "line": {
              "color": "white"
             }
            },
            "type": "table"
           }
          ]
         },
         "layout": {
          "annotationdefaults": {
           "arrowcolor": "#2a3f5f",
           "arrowhead": 0,
           "arrowwidth": 1
          },
          "autotypenumbers": "strict",
          "coloraxis": {
           "colorbar": {
            "outlinewidth": 0,
            "ticks": ""
           }
          },
          "colorscale": {
           "diverging": [
            [
             0,
             "#8e0152"
            ],
            [
             0.1,
             "#c51b7d"
            ],
            [
             0.2,
             "#de77ae"
            ],
            [
             0.3,
             "#f1b6da"
            ],
            [
             0.4,
             "#fde0ef"
            ],
            [
             0.5,
             "#f7f7f7"
            ],
            [
             0.6,
             "#e6f5d0"
            ],
            [
             0.7,
             "#b8e186"
            ],
            [
             0.8,
             "#7fbc41"
            ],
            [
             0.9,
             "#4d9221"
            ],
            [
             1,
             "#276419"
            ]
           ],
           "sequential": [
            [
             0,
             "#0d0887"
            ],
            [
             0.1111111111111111,
             "#46039f"
            ],
            [
             0.2222222222222222,
             "#7201a8"
            ],
            [
             0.3333333333333333,
             "#9c179e"
            ],
            [
             0.4444444444444444,
             "#bd3786"
            ],
            [
             0.5555555555555556,
             "#d8576b"
            ],
            [
             0.6666666666666666,
             "#ed7953"
            ],
            [
             0.7777777777777778,
             "#fb9f3a"
            ],
            [
             0.8888888888888888,
             "#fdca26"
            ],
            [
             1,
             "#f0f921"
            ]
           ],
           "sequentialminus": [
            [
             0,
             "#0d0887"
            ],
            [
             0.1111111111111111,
             "#46039f"
            ],
            [
             0.2222222222222222,
             "#7201a8"
            ],
            [
             0.3333333333333333,
             "#9c179e"
            ],
            [
             0.4444444444444444,
             "#bd3786"
            ],
            [
             0.5555555555555556,
             "#d8576b"
            ],
            [
             0.6666666666666666,
             "#ed7953"
            ],
            [
             0.7777777777777778,
             "#fb9f3a"
            ],
            [
             0.8888888888888888,
             "#fdca26"
            ],
            [
             1,
             "#f0f921"
            ]
           ]
          },
          "colorway": [
           "#636efa",
           "#EF553B",
           "#00cc96",
           "#ab63fa",
           "#FFA15A",
           "#19d3f3",
           "#FF6692",
           "#B6E880",
           "#FF97FF",
           "#FECB52"
          ],
          "font": {
           "color": "#2a3f5f"
          },
          "geo": {
           "bgcolor": "white",
           "lakecolor": "white",
           "landcolor": "#E5ECF6",
           "showlakes": true,
           "showland": true,
           "subunitcolor": "white"
          },
          "hoverlabel": {
           "align": "left"
          },
          "hovermode": "closest",
          "mapbox": {
           "style": "light"
          },
          "paper_bgcolor": "white",
          "plot_bgcolor": "#E5ECF6",
          "polar": {
           "angularaxis": {
            "gridcolor": "white",
            "linecolor": "white",
            "ticks": ""
           },
           "bgcolor": "#E5ECF6",
           "radialaxis": {
            "gridcolor": "white",
            "linecolor": "white",
            "ticks": ""
           }
          },
          "scene": {
           "xaxis": {
            "backgroundcolor": "#E5ECF6",
            "gridcolor": "white",
            "gridwidth": 2,
            "linecolor": "white",
            "showbackground": true,
            "ticks": "",
            "zerolinecolor": "white"
           },
           "yaxis": {
            "backgroundcolor": "#E5ECF6",
            "gridcolor": "white",
            "gridwidth": 2,
            "linecolor": "white",
            "showbackground": true,
            "ticks": "",
            "zerolinecolor": "white"
           },
           "zaxis": {
            "backgroundcolor": "#E5ECF6",
            "gridcolor": "white",
            "gridwidth": 2,
            "linecolor": "white",
            "showbackground": true,
            "ticks": "",
            "zerolinecolor": "white"
           }
          },
          "shapedefaults": {
           "line": {
            "color": "#2a3f5f"
           }
          },
          "ternary": {
           "aaxis": {
            "gridcolor": "white",
            "linecolor": "white",
            "ticks": ""
           },
           "baxis": {
            "gridcolor": "white",
            "linecolor": "white",
            "ticks": ""
           },
           "bgcolor": "#E5ECF6",
           "caxis": {
            "gridcolor": "white",
            "linecolor": "white",
            "ticks": ""
           }
          },
          "title": {
           "x": 0.05
          },
          "xaxis": {
           "automargin": true,
           "gridcolor": "white",
           "linecolor": "white",
           "ticks": "",
           "title": {
            "standoff": 15
           },
           "zerolinecolor": "white",
           "zerolinewidth": 2
          },
          "yaxis": {
           "automargin": true,
           "gridcolor": "white",
           "linecolor": "white",
           "ticks": "",
           "title": {
            "standoff": 15
           },
           "zerolinecolor": "white",
           "zerolinewidth": 2
          }
         }
        },
        "title": {
         "text": "Roberta Positive vs Negative Sentiment over Time"
        },
        "xaxis": {
         "anchor": "y",
         "domain": [
          0,
          1
         ],
         "title": {
          "text": "Date"
         }
        },
        "yaxis": {
         "anchor": "x",
         "domain": [
          0,
          1
         ],
         "title": {
          "text": "Count"
         }
        }
       }
      }
     },
     "metadata": {},
     "output_type": "display_data"
    },
    {
     "name": "stdout",
     "output_type": "stream",
     "text": [
      "--------------------------------------------------------------------------------------------------------------------\n",
      "╔══════════════════════════════════════════════════════════════════════════════════════════════════════════╗\n",
      "║  The selected post has no replies from the Artists, Therefore, no further analysis of  Artist's reply    ║\n",
      "╚══════════════════════════════════════════════════════════════════════════════════════════════════════════╝\n"
     ]
    }
   ],
   "source": [
    "torch.backends.cudnn.benchmark = False\n",
    "MODEL = f\"cardiffnlp/twitter-roberta-base-sentiment-latest\"\n",
    "tokenizer = AutoTokenizer.from_pretrained(MODEL)\n",
    "config = AutoConfig.from_pretrained(MODEL)\n",
    "model = AutoModelForSequenceClassification.from_pretrained(MODEL)\n",
    "\n",
    "\n",
    "\n",
    "\n",
    "\n",
    "\n",
    "\n",
    "\n",
    "\n",
    "def update_selected_post_data(selected_post):\n",
    "    matching_rows = (selected_post['Username'] == 'conormarcusmusic') | (selected_post['Username'] == 'Conor Marcus Music')\n",
    "\n",
    "    if matching_rows.any():\n",
    "        # print('The data have replies from the artists')\n",
    "        text = \"The data have replies from the artists\"\n",
    "        width = len(text) + 4\n",
    "        print('╔' + '═' * width + '╗')\n",
    "        print('║  ' + text + '  ║')\n",
    "        print('╚' + '═' * width + '╝')\n",
    "        \n",
    "        selected_post_without_reply = selected_post[~matching_rows]\n",
    "        selected_post_only_with_artist_reply = selected_post[matching_rows]\n",
    "        selected_post_have_no_reply = None\n",
    "    else:\n",
    "        # print('The data have No replies from the artists')\n",
    "        text = \"The data have No replies from the artists\"\n",
    "        width = len(text) + 4\n",
    "        print('╔' + '═' * width + '╗')\n",
    "        print('║  ' + text + '  ║')\n",
    "        print('╚' + '═' * width + '╝')\n",
    "      \n",
    "        selected_post_without_reply = None\n",
    "        selected_post_only_with_artist_reply = None\n",
    "        selected_post_have_no_reply = selected_post\n",
    "\n",
    "    return selected_post_without_reply, selected_post_only_with_artist_reply, selected_post_have_no_reply\n",
    "\n",
    "# Update the other variables based on the changes in the selected_post DataFrame\n",
    "selected_post_without_reply, selected_post_only_with_artist_reply, selected_post_have_no_reply = update_selected_post_data(selected_post)\n",
    "\n",
    "\n",
    "\n",
    "\n",
    "\n",
    "\n",
    "print('--------------------------------------------------------------------------------------------------------------------')\n",
    "\n",
    "\n",
    "\n",
    "\n",
    "\n",
    "\n",
    "# Define the sentiment labels\n",
    "sentiment_labels = ['roberta_neg', 'roberta_neu', 'roberta_pos']\n",
    "\n",
    "# Initialize an empty list to store the sentiment dictionaries\n",
    "sentiment_scores_list = []\n",
    "\n",
    "# Choose the non-empty variable dynamically\n",
    "selected_post = None\n",
    "if selected_post_without_reply is not None and not selected_post_without_reply.empty:\n",
    "    selected_post = selected_post_without_reply\n",
    "elif selected_post_have_no_reply is not None and not selected_post_have_no_reply.empty:\n",
    "    selected_post = selected_post_have_no_reply\n",
    "if selected_post is not None:\n",
    "    # Iterate through each text in the selected variable\n",
    "    for text in tqdm(selected_post['Comment Text'], total=len(selected_post)):\n",
    "        if isinstance(text, str):  # Check if the value is a string\n",
    "            try:\n",
    "                text = preprocess1(text)\n",
    "                text = preprocess(text)\n",
    "                encoded_text = tokenizer(text, return_tensors='pt')\n",
    "                output = model(**encoded_text)\n",
    "                scores = output[0][0].detach().numpy()  # Applying softmax\n",
    "                scores = softmax(scores)\n",
    "                scores_dict = {label: score for label, score in zip(sentiment_labels, scores)}\n",
    "                sentiment_scores_list.append(scores_dict)\n",
    "            except RuntimeError:\n",
    "                print(f'Broke for text: {text}')\n",
    "        else:\n",
    "            print(f'Skipped non-string value: {text}')\n",
    "\n",
    "    # Convert the list of sentiment dictionaries to a DataFrame\n",
    "    sentiment_df = pd.DataFrame(sentiment_scores_list)\n",
    "\n",
    "    # Concatenate the selected variable DataFrame with the sentiment scores DataFrame\n",
    "    data_with_sentiment = pd.concat([selected_post, sentiment_df], axis=1)\n",
    "    data_with_sentiment.isnull().sum()\n",
    "    data_with_sentiment = data_with_sentiment.dropna()\n",
    "    data_with_sentiment.isnull().sum()\n",
    "    \n",
    "else:\n",
    "    print(\"Both selected variables are empty.\")\n",
    "\n",
    "\n",
    "\n",
    "\n",
    "# Custom function to determine sentiment label\n",
    "def get_sentiment(row):\n",
    "    max_score = max(row['roberta_neg'], row['roberta_neu'], row['roberta_pos'])\n",
    "    if max_score == row['roberta_neg']:\n",
    "        return 'negative'\n",
    "    elif max_score == row['roberta_neu']:\n",
    "        return 'positive'\n",
    "    else:\n",
    "        return 'positive'\n",
    "\n",
    "# Apply the custom function to create the 'sentiment' column\n",
    "data_with_sentiment['sentiment'] = data_with_sentiment.apply(get_sentiment, axis=1)\n",
    "selected_columns = ['User Id', 'Username', 'Comment Text', 'Date','sentiment']\n",
    "sentiment_Rising_selected = data_with_sentiment[selected_columns]\n",
    "\n",
    "print('--------------------------------------------------------------------------------------------------------------------')\n",
    "\n",
    "\n",
    "sentiment_counts = sentiment_Rising_selected['sentiment'].value_counts()\n",
    "sentiment_counts\n",
    "\n",
    "\n",
    "#Calculate the percentage of each sentiment\n",
    "total_samples = len(sentiment_Rising_selected)\n",
    "sentiment_percentages = (sentiment_counts / total_samples) * 100\n",
    "\n",
    "\n",
    "plt.figure(figsize=(8, 6))\n",
    "sns.set(style=\"whitegrid\")\n",
    "sns.barplot(x=sentiment_percentages.index, y=sentiment_percentages.values, palette=\"pastel\")\n",
    "\n",
    "# Add labels and title\n",
    "plt.xlabel('Sentiment')\n",
    "plt.ylabel('Percentage')\n",
    "plt.title('Sentiment Distribution')\n",
    "\n",
    "# Display percentages on the bars\n",
    "for index, value in enumerate(sentiment_percentages):\n",
    "    plt.text(index, value + 1, f'{value:.2f}%', ha='center')\n",
    "\n",
    "# Show the plot\n",
    "plt.show()\n",
    "\n",
    "print('--------------------------------------------------------------------------------------------------------------------')\n",
    "\n",
    "# Create a pie chart\n",
    "plt.figure(figsize=(8, 6))\n",
    "colors = sns.color_palette('pastel')\n",
    "plt.pie(sentiment_percentages, labels=sentiment_percentages.index, autopct='%.2f%%', colors=colors, startangle=140)\n",
    "plt.title('Sentiment Distribution for selected post')\n",
    "\n",
    "# Equal aspect ratio ensures that pie is drawn as a circle.\n",
    "plt.axis('equal')\n",
    "\n",
    "# Show the plot\n",
    "plt.show()\n",
    "\n",
    "\n",
    "data_with_sentiment.set_index('Date', inplace=True)\n",
    "data_with_sentiment.index = pd.to_datetime(data_with_sentiment.index)\n",
    "\n",
    "print('--------------------------------------------------------------------------------------------------------------------')\n",
    "\n",
    "\n",
    "\n",
    "\n",
    "\n",
    "\n",
    "time_plot = data_with_sentiment[['roberta_pos', 'roberta_neg']]\n",
    "import plotly.express as px\n",
    "import plotly.express as px\n",
    "import plotly.graph_objects as go\n",
    "\n",
    "# Create an interactive line plot using Plotly\n",
    "fig = px.line(time_plot, x=time_plot.index, y=['roberta_pos', 'roberta_neg'], labels={'x': 'Date', 'value': 'Count'},\n",
    "              title='Roberta Positive vs Negative Sentiment over Time')\n",
    "fig.update_layout(legend_title_text='Sentiment', legend_traceorder='reversed')\n",
    "\n",
    "# Add scatter markers on top of the lines\n",
    "scatter_pos = go.Scatter(x=time_plot.index, y=time_plot['roberta_pos'], mode='markers', name='Positive')\n",
    "scatter_neg = go.Scatter(x=time_plot.index, y=time_plot['roberta_neg'], mode='markers', name='Negative')\n",
    "\n",
    "fig.add_trace(scatter_pos)\n",
    "fig.add_trace(scatter_neg)\n",
    "\n",
    "# Enable zooming feature\n",
    "fig.show(config={'scrollZoom': True})\n",
    "\n",
    "\n",
    "\n",
    "print('--------------------------------------------------------------------------------------------------------------------')\n",
    "\n",
    "\n",
    "\n",
    "\n",
    "selected_post_only_with_artist_reply\n",
    "\n",
    "\n",
    "\n",
    "\n",
    "if selected_post_only_with_artist_reply is not None and not selected_post_only_with_artist_reply.empty:\n",
    "    text = \"The selected post have replies from the Artists \"\n",
    "    width = len(text) + 4\n",
    "    print('╔' + '═' * width + '╗')\n",
    "    print('║  ' + text + '  ║')\n",
    "    print('╚' + '═' * width + '╝')\n",
    "    selected_post_only_with_artist_reply.shape[0]\n",
    "    print(\"Total number of replies:\", selected_post_only_with_artist_reply.shape[0])\n",
    "    print(\"Replies /n \", selected_post_only_with_artist_reply['Comment Text'])\n",
    "\n",
    "\n",
    "    # Define the sentiment labels\n",
    "    sentiment_labels = ['roberta_neg', 'roberta_neu', 'roberta_pos']\n",
    "\n",
    "    # Initialize an empty list to store the sentiment dictionaries\n",
    "    sentiment_scores_list = []\n",
    "\n",
    "    # Iterate through each text in the 'Comment Text' column\n",
    "    for text in tqdm(selected_post_only_with_artist_reply['Comment Text'], total=len(selected_post_only_with_artist_reply)):\n",
    "        if isinstance(text, str):  # Check if the value is a string\n",
    "            try:\n",
    "                text = preprocess1(text)\n",
    "                text = preprocess(text)\n",
    "                encoded_text = tokenizer(text, return_tensors='pt')\n",
    "                output = model(**encoded_text)\n",
    "                scores = output[0][0].detach().numpy()  # Applying softmax\n",
    "                scores = softmax(scores)\n",
    "                scores_dict = {label: score for label, score in zip(sentiment_labels, scores)}\n",
    "                sentiment_scores_list.append(scores_dict)\n",
    "            except RuntimeError:\n",
    "                print(f'Broke for text: {text}')\n",
    "        else:\n",
    "            print(f'Skipped non-string value: {text}')\n",
    "\n",
    "    # Convert the list of sentiment dictionaries to a DataFrame\n",
    "    sentiment_scores_df_reply_A = pd.DataFrame(sentiment_scores_list)\n",
    "\n",
    "    # Concatenate the original DataFrame with the sentiment scores DataFrame\n",
    "    data_with_sentiment_Artist_reply = pd.concat([selected_post_only_with_artist_reply, sentiment_scores_df_reply_A], axis=1)\n",
    "\n",
    "\n",
    "\n",
    "    # Custom function to determine sentiment label\n",
    "    def get_sentiment(row):\n",
    "        max_score = max(row['roberta_neg'], row['roberta_neu'], row['roberta_pos'])\n",
    "        if max_score == row['roberta_neg']:\n",
    "            return 'negative'\n",
    "        elif max_score == row['roberta_neu']:\n",
    "            return 'positive'\n",
    "        else:\n",
    "            return 'positive'\n",
    "\n",
    "    # Apply the custom function to create the 'sentiment' column\n",
    "    data_with_sentiment_Artist_reply['sentiment'] = data_with_sentiment_Artist_reply.apply(get_sentiment, axis=1)\n",
    "    selected_columns = ['User Id', 'Username', 'Comment Text', 'Date','sentiment']\n",
    "    sentiment_of_Artist_reply = data_with_sentiment_Artist_reply[selected_columns]\n",
    "    sentiment_of_Artist_reply\n",
    "\n",
    "    sentiment_counts = sentiment_of_Artist_reply['sentiment'].value_counts()\n",
    "    sentiment_counts\n",
    "\n",
    "\n",
    "    #Calculate the percentage of each sentiment\n",
    "    total_samples = len(sentiment_of_Artist_reply)\n",
    "    sentiment_percentages = (sentiment_counts / total_samples) * 100\n",
    "\n",
    "\n",
    "    plt.figure(figsize=(8, 6))\n",
    "    sns.set(style=\"whitegrid\")\n",
    "    sns.barplot(x=sentiment_percentages.index, y=sentiment_percentages.values, palette=\"pastel\")\n",
    "\n",
    "    # Add labels and title\n",
    "    plt.xlabel('Sentiment')\n",
    "    plt.ylabel('Percentage')\n",
    "    plt.title('Sentiment Distribution')\n",
    "\n",
    "    # Display percentages on the bars\n",
    "    for index, value in enumerate(sentiment_percentages):\n",
    "        plt.text(index, value + 1, f'{value:.2f}%', ha='center')\n",
    "\n",
    "    # Show the plot\n",
    "    plt.show()\n",
    "\n",
    "    #----------------------------------------------------------------------------------------------------\n",
    "\n",
    "    # Create a pie chart\n",
    "    plt.figure(figsize=(8, 6))\n",
    "    colors = sns.color_palette('pastel')\n",
    "    plt.pie(sentiment_percentages, labels=sentiment_percentages.index, autopct='%.2f%%', colors=colors, startangle=140)\n",
    "    plt.title('Sentiment Distribution')\n",
    "\n",
    "    # Equal aspect ratio ensures that pie is drawn as a circle.\n",
    "    plt.axis('equal')\n",
    "\n",
    "    # Show the plot\n",
    "    plt.show()\n",
    "\n",
    "\n",
    "\n",
    "\n",
    "\n",
    "    time_plot1 = data_with_sentiment_Artist_reply[['roberta_pos', 'roberta_neg']]\n",
    "    import plotly.express as px\n",
    "    import plotly.express as px\n",
    "    import plotly.graph_objects as go\n",
    "\n",
    "    # Create an interactive line plot using Plotly\n",
    "    fig = px.line(time_plot1, x=time_plot1.index, y=['roberta_pos', 'roberta_neg'], labels={'x': 'Date', 'value': 'Count'},\n",
    "                title='Roberta Positive vs Negative Sentiment over Time')\n",
    "    fig.update_layout(legend_title_text='Sentiment', legend_traceorder='reversed')\n",
    "\n",
    "    # Add scatter markers on top of the lines\n",
    "    scatter_pos = go.Scatter(x=time_plot1.index, y=time_plot1['roberta_pos'], mode='markers', name='Positive')\n",
    "    scatter_neg = go.Scatter(x=time_plot1.index, y=time_plot1['roberta_neg'], mode='markers', name='Negative')\n",
    "\n",
    "    fig.add_trace(scatter_pos)\n",
    "    fig.add_trace(scatter_neg)\n",
    "\n",
    "    # Enable zooming feature\n",
    "    fig.show(config={'scrollZoom': True})\n",
    "\n",
    "\n",
    "\n",
    "\n",
    "\n",
    "\n",
    "\n",
    "else:\n",
    "    text = \"The selected post has no replies from the Artists, Therefore, no further analysis of  Artist's reply  \"\n",
    "    width = len(text) + 4\n",
    "    print('╔' + '═' * width + '╗')\n",
    "    print('║  ' + text + '  ║')\n",
    "    print('╚' + '═' * width + '╝')\n",
    "    \n",
    "\n",
    "\n",
    "\n",
    "\n",
    "\n",
    "\n",
    "\n"
   ]
  },
  {
   "cell_type": "code",
   "execution_count": null,
   "metadata": {},
   "outputs": [],
   "source": [
    "\n",
    "\n",
    "\n"
   ]
  },
  {
   "cell_type": "code",
   "execution_count": null,
   "metadata": {},
   "outputs": [],
   "source": [
    "\n",
    "\n",
    "\n"
   ]
  },
  {
   "cell_type": "code",
   "execution_count": null,
   "metadata": {},
   "outputs": [],
   "source": []
  }
 ],
 "metadata": {
  "kernelspec": {
   "display_name": "base",
   "language": "python",
   "name": "python3"
  },
  "language_info": {
   "codemirror_mode": {
    "name": "ipython",
    "version": 3
   },
   "file_extension": ".py",
   "mimetype": "text/x-python",
   "name": "python",
   "nbconvert_exporter": "python",
   "pygments_lexer": "ipython3",
   "version": "3.11.4"
  },
  "orig_nbformat": 4
 },
 "nbformat": 4,
 "nbformat_minor": 2
}
